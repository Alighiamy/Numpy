{
  "cells": [
    {
      "cell_type": "markdown",
      "metadata": {
        "id": "view-in-github",
        "colab_type": "text"
      },
      "source": [
        "<a href=\"https://colab.research.google.com/github/Alighiamy/Numpy/blob/main/ABD_CLPT.ipynb\" target=\"_parent\"><img src=\"https://colab.research.google.com/assets/colab-badge.svg\" alt=\"Open In Colab\"/></a>"
      ]
    },
    {
      "cell_type": "markdown",
      "source": [
        "# Classical Laminated Plate Theory\n",
        "## ABD Matrix of CLPT\n",
        "_*__writer:__*_ \n",
        "* Ali Ghiamy"
      ],
      "metadata": {
        "id": "yTiYADqMRo6I"
      }
    },
    {
      "cell_type": "code",
      "execution_count": 1,
      "metadata": {
        "id": "kFgP-cVs5Y6i"
      },
      "outputs": [],
      "source": [
        "%reset-f\n",
        "import pandas as pd\n",
        "import numpy as np\n",
        "π = np.pi"
      ]
    },
    {
      "cell_type": "code",
      "execution_count": 2,
      "metadata": {
        "id": "M_bwXmckD9Y5",
        "colab": {
          "base_uri": "https://localhost:8080/"
        },
        "outputId": "3b6a9fba-f043-41af-9046-fd17428f08ab"
      },
      "outputs": [
        {
          "output_type": "stream",
          "name": "stdout",
          "text": [
            "[208000] [208000] [0.3] [80000.] [80000.] [80000.]\n"
          ]
        }
      ],
      "source": [
        "#---------------------------------------------------------\n",
        "# Geometry of Plate Inputs\n",
        "ht = 1 # Total Hight of Plate\n",
        "b̄ = 50 # Length of Plate in \"Y\" Direction\n",
        "ā = 50 # Length of Plate in \"X\" Direction\n",
        "\n",
        "NL= 1 # Number of Layers\n",
        "#---------------------------------------------------------\n",
        "# Material Peroperties of Plate:\n",
        "# Isotropic Plate\n",
        "E1 = np.array([208000])\n",
        "E2 = E1\n",
        "ν12 = np.array([0.3])\n",
        "G12 = np.array([E2[0]/(2*(1+ν12[0]))])\n",
        "G23 = G12\n",
        "G13 = G12\n",
        "\n",
        "ρ=7800 # Kg/cm3\n",
        "#---------------------------------------------------------\n",
        "# Orientation of ech Ply:\n",
        "θ = [0,90,90,0]\n",
        "\n",
        "print(E1,E2,ν12,G12,G23,G13)"
      ]
    },
    {
      "cell_type": "code",
      "execution_count": 3,
      "metadata": {
        "id": "ommo2KaS3POh",
        "colab": {
          "base_uri": "https://localhost:8080/"
        },
        "outputId": "879b72ce-e963-4c8f-e429-df28e473ed0e"
      },
      "outputs": [
        {
          "output_type": "stream",
          "name": "stdout",
          "text": [
            "[-0.5, 0.5]\n"
          ]
        }
      ],
      "source": [
        "# Laminate Parameters:\n",
        "# Puasons Ratio\n",
        "ν21 = []\n",
        "for i in range(NL):\n",
        "    ν21.append(E2[i]/E1[i]*ν12[i])\n",
        "\n",
        "# Density of Each Ply\n",
        "ρi = np.ones((NL,),dtype=int)*ρ\n",
        "\n",
        "# Coordinates of each Face of Layers According to Thickness of Each Ply\n",
        "Zt=[]\n",
        "Zt.append(-ht/2)\n",
        "for i in range(NL):\n",
        "    Zt.append(Zt[i]+ht/NL)\n",
        "\n",
        "print(Zt)"
      ]
    },
    {
      "cell_type": "code",
      "source": [
        "# Stiffnes Matrix of Material for Bending in Local Direction: \"QB\"\n",
        "QB=np.zeros((NL,3,3),dtype=int)\n",
        "for i in range(NL):\n",
        "    QB[i][0][0] = E1[i]/(1-ν12[i]*ν21[i])\n",
        "    QB[i][0][1] = E2[i]*ν12[i]/(1-ν12[i]*ν21[i])\n",
        "    QB[i][1][0] = E2[i]*ν12[i]/(1-ν12[i]*ν21[i])\n",
        "    QB[i][1][1] = E2[i]/(1-ν12[i]*ν21[i])\n",
        "    QB[i][2][2] = G12[i]\n",
        "\n",
        "print(QB[0][:][:])\n"
      ],
      "metadata": {
        "colab": {
          "base_uri": "https://localhost:8080/"
        },
        "id": "fxP-PRre6qEl",
        "outputId": "c2b85afa-82ec-49cd-eaec-21950155c6ee"
      },
      "execution_count": 4,
      "outputs": [
        {
          "output_type": "stream",
          "name": "stdout",
          "text": [
            "[[228571  68571      0]\n",
            " [ 68571 228571      0]\n",
            " [     0      0  80000]]\n"
          ]
        }
      ]
    },
    {
      "cell_type": "code",
      "execution_count": 5,
      "metadata": {
        "id": "RJd7Qs1SB_oy",
        "colab": {
          "base_uri": "https://localhost:8080/"
        },
        "outputId": "496d166c-e35b-483e-8679-1cad4e9581e6"
      },
      "outputs": [
        {
          "output_type": "stream",
          "name": "stdout",
          "text": [
            "[[228571.  68571.      0.]\n",
            " [ 68571. 228571.      0.]\n",
            " [     0.      0.  80000.]]\n"
          ]
        }
      ],
      "source": [
        "# Rotation Matrix\n",
        "Cθ = np.cos(np.radians(θ))\n",
        "Sθ = np.sin(np.radians(θ))\n",
        "\n",
        "MatrixA = np.zeros((NL,3,3),dtype=int)\n",
        "for i in range(NL):\n",
        "    MatrixA[:][:][i] = [[Cθ[i]**2   ,Sθ[i]**2    ,-2*Cθ[i]*Sθ[i]],\n",
        "                        [Sθ[i]**2   ,Cθ[i]**2    ,2*Cθ[i]*Sθ[i]],\n",
        "                        [Cθ[i]*Sθ[i],-Cθ[i]*Sθ[i],Cθ[i]**2-Sθ[i]**2]]\n",
        "\n",
        "MatrixB = np.zeros((NL,3,3),dtype=int)\n",
        "for i in range(NL):\n",
        "    MatrixB[:][:][i] = [[Cθ[i]**2      ,Sθ[i]**2     ,Cθ[i]*Sθ[i]],\n",
        "                        [Sθ[i]**2      ,Cθ[i]**2     ,-Cθ[i]*Sθ[i]],\n",
        "                        [-2*Cθ[i]*Sθ[i],2*Cθ[i]*Sθ[i],Cθ[i]**2-Sθ[i]**2]]\n",
        "\n",
        "# Stiffnes Matrix of Material for Bending in Local Direction: \"QB\"\n",
        "Q̄B = np.zeros((NL,3,3))\n",
        "for i in range(NL):\n",
        "    Q̄B[i][:][:] = MatrixA[i][:][:]@QB[i][:][:]@MatrixB[i][:][:]\n",
        "\n",
        "print(Q̄B[0][:][:])"
      ]
    },
    {
      "cell_type": "code",
      "source": [
        "# ABD Matrix for CLPT\n",
        "AA = np.zeros((3,3))\n",
        "BB = np.zeros((3,3))\n",
        "DD = np.zeros((3,3))\n",
        "\n",
        "for i in range(NL):\n",
        "    AA[:][:] += Q̄B[i][:][:]*(Zt[i+1]-Zt[i])\n",
        "    BB[:][:] += (1/2)*Q̄B[i][:][:]*(Zt[i+1]**2-Zt[i]**2)\n",
        "    DD[:][:] += (1/3)*Q̄B[i][:][:]*(Zt[i+1]**3-Zt[i]**3)\n",
        "\n",
        "print('A=',AA)\n",
        "print(\"*```````````````*\")\n",
        "print('D=',DD)"
      ],
      "metadata": {
        "colab": {
          "base_uri": "https://localhost:8080/"
        },
        "id": "q2cqiX-B6KZr",
        "outputId": "8ae32b04-a686-4bd9-ada4-4970e07eeeba"
      },
      "execution_count": 6,
      "outputs": [
        {
          "output_type": "stream",
          "name": "stdout",
          "text": [
            "A= [[228571.  68571.      0.]\n",
            " [ 68571. 228571.      0.]\n",
            " [     0.      0.  80000.]]\n",
            "*```````````````*\n",
            "D= [[19047.58333333  5714.25           0.        ]\n",
            " [ 5714.25       19047.58333333     0.        ]\n",
            " [    0.             0.          6666.66666667]]\n"
          ]
        }
      ]
    },
    {
      "cell_type": "code",
      "source": [
        "##%\n",
        "Dbend = np.zeros((6,6),dtype=int)\n",
        "'''\n",
        "Dbend=[A B\n",
        "       B D]\n",
        "'''\n",
        "#----A[1,1]:\n",
        "# A[1,1:3]\n",
        "Dbend[0][0] = AA[0][0]\n",
        "Dbend[0][1] = AA[0][1]\n",
        "Dbend[0][2] = AA[0][2]\n",
        "# A[2,1:3]\n",
        "Dbend[1][0] = AA[1][0]\n",
        "Dbend[1][1] = AA[1][1]\n",
        "Dbend[1][2] = AA[1][2]\n",
        "# A[3,1:3]\n",
        "Dbend[2][0] = AA[2][0]\n",
        "Dbend[2][1] = AA[2][1]\n",
        "Dbend[2][2] = AA[2][2]\n",
        "\n",
        "#----B[1,2]:-------------\n",
        "# B[1,1:3]\n",
        "Dbend[0][3] = BB[0][0]\n",
        "Dbend[0][4] = BB[0][1]\n",
        "Dbend[0][5] = BB[0][2]\n",
        "# B[2,1:3]\n",
        "Dbend[1][3] = BB[1][0]\n",
        "Dbend[1][4] = BB[1][1]\n",
        "Dbend[1][5] = BB[1][2]\n",
        "# B[3,1:3]\n",
        "Dbend[2][3] = BB[2][0]\n",
        "Dbend[2][4] = BB[2][1]\n",
        "Dbend[2][5] = BB[2][2]\n",
        "\n",
        "#----B[2,1]:-------------\n",
        "# B[1,1:3]\n",
        "Dbend[3][0] = BB[0][0]\n",
        "Dbend[3][1] = BB[0][1]\n",
        "Dbend[3][2] = BB[0][2]\n",
        "# B[2,1:3]\n",
        "Dbend[4][0] = BB[1][0]\n",
        "Dbend[4][1] = BB[1][1]\n",
        "Dbend[4][2] = BB[1][2]\n",
        "# B[3,1:3]\n",
        "Dbend[5][0] = BB[2][0]\n",
        "Dbend[5][1] = BB[2][1]\n",
        "Dbend[5][2] = BB[2][2]\n",
        "\n",
        "#----D[2,2]:-------------\n",
        "# D[1,1:3]\n",
        "Dbend[3][3] = DD[0][0]\n",
        "Dbend[3][4] = DD[0][1]\n",
        "Dbend[3][5] = DD[0][2]\n",
        "# D[2,1:3]\n",
        "Dbend[4][3] = DD[1][0]\n",
        "Dbend[4][4] = DD[1][1]\n",
        "Dbend[4][5] = DD[1][2]\n",
        "# D[3,1:3]\n",
        "Dbend[5][3] = DD[2][0]\n",
        "Dbend[5][4] = DD[2][1]\n",
        "Dbend[5][5] = DD[2][2]\n",
        "\n",
        "print(\"*```````````````*\")\n",
        "Dbend"
      ],
      "metadata": {
        "id": "JE4ZOHkj-Lya",
        "colab": {
          "base_uri": "https://localhost:8080/"
        },
        "outputId": "ae8b9817-f1cd-4b92-ac0d-b9c38e397585"
      },
      "execution_count": 10,
      "outputs": [
        {
          "output_type": "stream",
          "name": "stdout",
          "text": [
            "*```````````````*\n"
          ]
        },
        {
          "output_type": "execute_result",
          "data": {
            "text/plain": [
              "array([[228571,  68571,      0,      0,      0,      0],\n",
              "       [ 68571, 228571,      0,      0,      0,      0],\n",
              "       [     0,      0,  80000,      0,      0,      0],\n",
              "       [     0,      0,      0,  19047,   5714,      0],\n",
              "       [     0,      0,      0,   5714,  19047,      0],\n",
              "       [     0,      0,      0,      0,      0,   6666]])"
            ]
          },
          "metadata": {},
          "execution_count": 10
        }
      ]
    },
    {
      "cell_type": "code",
      "source": [
        ""
      ],
      "metadata": {
        "id": "FFF76b9KRkJa"
      },
      "execution_count": null,
      "outputs": []
    }
  ],
  "metadata": {
    "colab": {
      "collapsed_sections": [],
      "name": "ABD_CLPT.ipynb",
      "provenance": [],
      "authorship_tag": "ABX9TyOUiRhYhxCpuClLIFI6z0IW",
      "include_colab_link": true
    },
    "kernelspec": {
      "display_name": "Python 3",
      "name": "python3"
    },
    "language_info": {
      "name": "python"
    }
  },
  "nbformat": 4,
  "nbformat_minor": 0
}